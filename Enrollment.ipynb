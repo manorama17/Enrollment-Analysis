{
  "nbformat": 4,
  "nbformat_minor": 0,
  "metadata": {
    "colab": {
      "provenance": [],
      "collapsed_sections": [
        "9CICuparBMYZ",
        "raH8TiDjlnFZ",
        "zUl2zsf1jslE",
        "7GnovgBGFY1I",
        "V4kyL_mtIB_o",
        "gXJGKibEc14U",
        "pMk8OBJQc6Qr",
        "AuDaHTnNc_cD",
        "hrZg9kdbdFAr",
        "8e4diwdwdK0T",
        "AfYovw8adY0z",
        "-u_pOguZdjy7",
        "JAy8VFwGdnFD",
        "tvkCZiNbdqsz",
        "TvhtQkd1dwq7",
        "QPCdAP9nd277",
        "uPjvAansd-Zi"
      ]
    },
    "kernelspec": {
      "name": "python3",
      "display_name": "Python 3"
    },
    "language_info": {
      "name": "python"
    }
  },
  "cells": [
    {
      "cell_type": "markdown",
      "source": [
        "# **Importing Libraries**"
      ],
      "metadata": {
        "id": "9CICuparBMYZ"
      }
    },
    {
      "cell_type": "code",
      "execution_count": null,
      "metadata": {
        "id": "yy7_S1znlE4F"
      },
      "outputs": [],
      "source": [
        "import numpy as np\n",
        "import pandas as pd\n",
        "import matplotlib.pyplot as plt\n",
        "import seaborn as sns\n",
        "from datetime import datetime, date"
      ]
    },
    {
      "cell_type": "markdown",
      "source": [
        "# **Read Data**"
      ],
      "metadata": {
        "id": "raH8TiDjlnFZ"
      }
    },
    {
      "cell_type": "code",
      "source": [
        "data = pd.read_excel('Enrollment_data.xlsx',sheet_name='Enrol CV 2022-23')\n",
        "def age(born):\n",
        "    today = date.today()\n",
        "    return today.year - born.year - ((today.month,\n",
        "                                      today.day) < (born.month,\n",
        "                                                    born.day))\n",
        "\n",
        "\n",
        "data['Age'] = data['dob'].apply(age)\n",
        "\n",
        "print(data.head(5))"
      ],
      "metadata": {
        "colab": {
          "base_uri": "https://localhost:8080/"
        },
        "id": "o9cbPNQyll05",
        "outputId": "b2991976-c4cd-4cdf-df1b-976ec4ac1d9c"
      },
      "execution_count": null,
      "outputs": [
        {
          "output_type": "stream",
          "name": "stdout",
          "text": [
            "   District     Block    Cluster  Village_id VillageName  \\\n",
            "0  KHERWARA  JHADOL-1  BICHIWADA    82607010       AAMOD   \n",
            "1  KHERWARA  JHADOL-1  BICHIWADA    82607010       AAMOD   \n",
            "2  KHERWARA  JHADOL-1  BICHIWADA    82607010       AAMOD   \n",
            "3  KHERWARA  JHADOL-1  BICHIWADA    82607010       AAMOD   \n",
            "4  KHERWARA  JHADOL-1  BICHIWADA    82607010       AAMOD   \n",
            "\n",
            "             UniqueChildCode  Gender        dob  class  \\\n",
            "0  YX8hhNpV20170407010241255  Female 2008-12-14    NaN   \n",
            "1  3vtLBSqS20161231075040559  Female 2009-01-01    6.0   \n",
            "2  32qYJCZN20170103094506956  Female 2009-02-16    NaN   \n",
            "3  jQ6nZ2Xc20170103094737606  Female 2009-04-13    NaN   \n",
            "4  zjZRq24p20170103094738623  Female 2009-06-03    NaN   \n",
            "\n",
            "                  SchoolCode  edu_status  Age  \n",
            "0                        NaN           3   14  \n",
            "1  AE8C4555A53D4AAF899F7E234           1   14  \n",
            "2                        NaN           2   13  \n",
            "3                        NaN           3   13  \n",
            "4                        NaN           3   13  \n"
          ]
        }
      ]
    },
    {
      "cell_type": "code",
      "source": [
        "print(data.info())"
      ],
      "metadata": {
        "colab": {
          "base_uri": "https://localhost:8080/"
        },
        "id": "AqzoGHpWn1vZ",
        "outputId": "143cc551-9457-496a-edb3-bd07f7455f1b"
      },
      "execution_count": null,
      "outputs": [
        {
          "output_type": "stream",
          "name": "stdout",
          "text": [
            "<class 'pandas.core.frame.DataFrame'>\n",
            "RangeIndex: 20376 entries, 0 to 20375\n",
            "Data columns (total 12 columns):\n",
            " #   Column           Non-Null Count  Dtype         \n",
            "---  ------           --------------  -----         \n",
            " 0   District         20376 non-null  object        \n",
            " 1   Block            20376 non-null  object        \n",
            " 2   Cluster          20281 non-null  object        \n",
            " 3   Village_id       20376 non-null  int64         \n",
            " 4   VillageName      20376 non-null  object        \n",
            " 5   UniqueChildCode  20376 non-null  object        \n",
            " 6   Gender           20376 non-null  object        \n",
            " 7   dob              20376 non-null  datetime64[ns]\n",
            " 8   class            6694 non-null   float64       \n",
            " 9   SchoolCode       6694 non-null   object        \n",
            " 10  edu_status       20376 non-null  int64         \n",
            " 11  Age              20376 non-null  int64         \n",
            "dtypes: datetime64[ns](1), float64(1), int64(3), object(7)\n",
            "memory usage: 1.9+ MB\n",
            "None\n"
          ]
        }
      ]
    },
    {
      "cell_type": "code",
      "source": [
        "print(data.isnull().sum()/len(data)*100)"
      ],
      "metadata": {
        "colab": {
          "base_uri": "https://localhost:8080/"
        },
        "id": "GkVk6I8an9tB",
        "outputId": "89978f7e-9ac7-44b2-fb18-d7b3111f41a1"
      },
      "execution_count": null,
      "outputs": [
        {
          "output_type": "stream",
          "name": "stdout",
          "text": [
            "District            0.000000\n",
            "Block               0.000000\n",
            "Cluster             0.466235\n",
            "Village_id          0.000000\n",
            "VillageName         0.000000\n",
            "UniqueChildCode     0.000000\n",
            "Gender              0.000000\n",
            "dob                 0.000000\n",
            "class              67.147625\n",
            "SchoolCode         67.147625\n",
            "edu_status          0.000000\n",
            "Age                 0.000000\n",
            "dtype: float64\n"
          ]
        }
      ]
    },
    {
      "cell_type": "code",
      "source": [
        "print(data.describe())"
      ],
      "metadata": {
        "colab": {
          "base_uri": "https://localhost:8080/"
        },
        "id": "-daFRA_kojGB",
        "outputId": "f198586a-e6a4-460c-b3e3-478cbc5d4fe4"
      },
      "execution_count": null,
      "outputs": [
        {
          "output_type": "stream",
          "name": "stdout",
          "text": [
            "         Village_id        class    edu_status           Age\n",
            "count  2.037600e+04  6694.000000  20376.000000  20376.000000\n",
            "mean   8.255827e+07     6.098297      2.016048     12.667697\n",
            "std    1.681286e+05     0.828425      0.819449      2.008216\n",
            "min    8.200100e+07     1.000000      1.000000      8.000000\n",
            "25%    8.260722e+07     6.000000      1.000000     12.000000\n",
            "50%    8.260914e+07     6.000000      2.000000     12.000000\n",
            "75%    8.261100e+07     6.000000      3.000000     13.000000\n",
            "max    8.261209e+07    12.000000      3.000000     23.000000\n"
          ]
        }
      ]
    },
    {
      "cell_type": "markdown",
      "source": [
        "**Note**\n",
        "\n",
        "To understand the data better, I have used info(), describe(), and isnull() functions. These functions provide information on the data types, null values, and summary statistics of the dataset, respectively."
      ],
      "metadata": {
        "id": "Can0pvMnDe4T"
      }
    },
    {
      "cell_type": "markdown",
      "source": [
        "# **Validating Columns**"
      ],
      "metadata": {
        "id": "zUl2zsf1jslE"
      }
    },
    {
      "cell_type": "code",
      "source": [
        "#Validating District Column (Text)\n",
        "\n",
        "print(data['District'].unique())"
      ],
      "metadata": {
        "colab": {
          "base_uri": "https://localhost:8080/"
        },
        "id": "yffBLtGHj2I7",
        "outputId": "f00820ab-9c08-49bd-e747-3fc9247d9772"
      },
      "execution_count": null,
      "outputs": [
        {
          "output_type": "stream",
          "name": "stdout",
          "text": [
            "['KHERWARA' 'PALI']\n"
          ]
        }
      ]
    },
    {
      "cell_type": "code",
      "source": [
        "#Validating Block Column (Text)\n",
        "\n",
        "print(data['Block'].unique())"
      ],
      "metadata": {
        "colab": {
          "base_uri": "https://localhost:8080/"
        },
        "id": "gMk20k2Ev5tk",
        "outputId": "38568c65-9713-4a00-fe2d-b9eced7689f8"
      },
      "execution_count": null,
      "outputs": [
        {
          "output_type": "stream",
          "name": "stdout",
          "text": [
            "['JHADOL-1' 'JHADOL-2' 'KHERWARA-1' 'KHERWARA-2' 'LASADIYA' 'RISHABHDEV'\n",
            " 'SALUMBAR-1' 'SALUMBAR-2' 'SARADA-1' 'SARADA-2' 'BALI' 'DESURI'\n",
            " 'JAITARAN' 'MARVAR JUNCTION' 'PALI' 'RAIPUR' 'RANI' 'ROHAT' 'SOJAT'\n",
            " 'SUMERPUR']\n"
          ]
        }
      ]
    },
    {
      "cell_type": "code",
      "source": [
        "#Validating Cluster Column (Text)\n",
        "\n",
        "print(data['Cluster'].unique())"
      ],
      "metadata": {
        "colab": {
          "base_uri": "https://localhost:8080/"
        },
        "id": "ffvGlF7lzazr",
        "outputId": "05944723-27bb-4ebb-ea1c-fec6dd96be5f"
      },
      "execution_count": null,
      "outputs": [
        {
          "output_type": "stream",
          "name": "stdout",
          "text": [
            "['BICHIWADA' 'BIROTHI' 'BOBRAVADA' 'JHAJHAR KI PAAL' 'KAREL' 'LATHUNI'\n",
            " 'MANPUR' 'NAAGMALA' 'NICHLI SIGRI' 'OGNA' 'ROHIMALA' 'SOM' 'CHANDVAS'\n",
            " 'CHANGLA' 'DAMANA P' 'GODAVADA' 'KADA' 'MADRI' 'MAGVAS'\n",
            " 'MAHADEV JI KA KED' 'MANAS' 'SELANA' 'BHANDA' 'DHIKVAS' 'KANBAI'\n",
            " 'KARNAUVA' 'NAYA GAON3' 'PALSIYA' 'SUBEDRA' 'BALICHA' 'BAVALWADA'\n",
            " 'CHOKI1' 'DERI' 'GUDHA1' 'KARCHA KALAN' 'MAHUVAL - B' 'SUBERI' 'SUNDRA'\n",
            " 'BALICHA2' 'BEDAS' 'BEDAWAL' 'CHIKALADI' 'DEVLIYA' 'KUN' 'LAKUKALEVA'\n",
            " 'LASADIYA' 'REL MAUDI' 'SATYA TALAI' 'BHAGOR' 'BHUDHAR' 'BICHIVADA'\n",
            " 'GADAVAT' 'JALPAKA' 'MANDVA FALA' 'RISHABHDEO' 'SHYAM PURA' 'ADKALIYA1'\n",
            " 'BASSI JUNJAWAT' 'GHATI' 'KHARAKA' 'MALPUR' 'ORWADIYA' 'SARADI' 'SERIYA'\n",
            " 'SURO KA KUWA' 'UTHARADA' 'AMALAVA1' 'BHATWADA' 'BUDEL' 'INTALI KHERA'\n",
            " 'JODHPUR KHURD' 'KHOLDI' 'MANDALI' 'NOLI' 'NP_SALUMBER WARD NO. 1'\n",
            " 'PAYRA' 'VIRVAKALA' 'AMARPURA' 'BANAKHURD' 'BHALADIYA' 'CHAWAND' 'GATOD'\n",
            " 'KARELI' 'KEVDA KHURD' 'NATHARA' 'PARASAD' 'SURKHAND KHEDA' 'THANA2'\n",
            " 'VEER PURA' nan 'DHANKAWADA' 'GHODASAR' 'INTALI' 'JAVAD' 'JUNIJAR'\n",
            " 'RATHODA' 'SEMARI' 'BISALPUR' 'NADIA' 'NP BALI' 'SEWARI' 'DESURI'\n",
            " 'MAGARTALAV' 'VARA SOLANKIAN' 'GANGLIYA' 'No Cluster Village'\n",
            " 'NP JAITARAN' 'PIPALIYA KHURD' 'RAMAWAS KHURD' 'AKHAVAS' 'BHAGVAN PUARA'\n",
            " 'MARWAR JUNCTION' 'NIMBALI MANDA' 'HEMAWAS' 'NP PALI' 'BAR'\n",
            " 'BIRATIYA KHURD' 'RAIPUR' 'CHOTI RANI' 'GUDA RAMA JI' 'BASSI' 'KULTHANA'\n",
            " 'ROHAT' 'AJITPURA' 'CHAMADIYAK' 'NP SOJAT CITY' 'SOJAT ROAD'\n",
            " 'ARANPURA (JAWAI BANDH)' 'SANDERAO']\n"
          ]
        }
      ]
    },
    {
      "cell_type": "code",
      "source": [
        "#Validating Village id Column (Int)\n",
        "\n",
        "print(data['Village_id'].unique())"
      ],
      "metadata": {
        "colab": {
          "base_uri": "https://localhost:8080/"
        },
        "id": "A6IB_Ui7znFh",
        "outputId": "90a02d42-fab7-4ebb-c765-e388442897f5"
      },
      "execution_count": null,
      "outputs": [
        {
          "output_type": "stream",
          "name": "stdout",
          "text": [
            "[82607010 82607046 82607011 ... 82008025 82008046 82008051]\n"
          ]
        }
      ]
    },
    {
      "cell_type": "code",
      "source": [
        "#Validating VillageName Column (Text)\n",
        "\n",
        "print(data['VillageName'].unique())"
      ],
      "metadata": {
        "colab": {
          "base_uri": "https://localhost:8080/"
        },
        "id": "oiJFvGzR0Fcs",
        "outputId": "cba3f3f9-8a89-4c6c-ff31-6d8dc56f5278"
      },
      "execution_count": null,
      "outputs": [
        {
          "output_type": "stream",
          "name": "stdout",
          "text": [
            "['AAMOD' 'BICHIWADA' 'SEMLA' ... 'KHANGDI' 'KORTA' 'PALADI JOD']\n"
          ]
        }
      ]
    },
    {
      "cell_type": "code",
      "source": [
        "#Validating Gender Column\n",
        "\n",
        "print(data['Gender'].unique())"
      ],
      "metadata": {
        "colab": {
          "base_uri": "https://localhost:8080/"
        },
        "id": "xw088JCO0y_c",
        "outputId": "68b45fb7-667e-432a-d465-96c7ad53227b"
      },
      "execution_count": null,
      "outputs": [
        {
          "output_type": "stream",
          "name": "stdout",
          "text": [
            "['Female' 'Male']\n"
          ]
        }
      ]
    },
    {
      "cell_type": "code",
      "source": [
        "#Validating edu_status,class and schoolcode Columns\n",
        "\n",
        "edu1 = data.loc[(data['edu_status']==1) & (data['class']==np.NaN)]\n",
        "print(edu1)\n",
        "\n",
        "edu1 = data.loc[(data['edu_status']==1) & (data['SchoolCode']==np.NaN)]\n",
        "print(edu1)"
      ],
      "metadata": {
        "colab": {
          "base_uri": "https://localhost:8080/"
        },
        "id": "7LmYlczr1GFz",
        "outputId": "23297472-88d1-4d61-b58e-619d30d0c921"
      },
      "execution_count": null,
      "outputs": [
        {
          "output_type": "stream",
          "name": "stdout",
          "text": [
            "Empty DataFrame\n",
            "Columns: [District, Block, Cluster, Village_id, VillageName, UniqueChildCode, Gender, dob, class, SchoolCode, edu_status, Age]\n",
            "Index: []\n",
            "Empty DataFrame\n",
            "Columns: [District, Block, Cluster, Village_id, VillageName, UniqueChildCode, Gender, dob, class, SchoolCode, edu_status, Age]\n",
            "Index: []\n"
          ]
        }
      ]
    },
    {
      "cell_type": "code",
      "source": [
        "l = [1,2,3,4,5,6,7,8,9,10,11,12]\n",
        "\n",
        "edu2 = data.loc[(data['edu_status']==2) & (data['class'].isin(l))]\n",
        "\n",
        "print(edu2)"
      ],
      "metadata": {
        "colab": {
          "base_uri": "https://localhost:8080/"
        },
        "id": "hkMfdHX25JF0",
        "outputId": "414d9a24-710a-4136-e1ce-dd04406e5817"
      },
      "execution_count": null,
      "outputs": [
        {
          "output_type": "stream",
          "name": "stdout",
          "text": [
            "       District       Block         Cluster  Village_id       VillageName  \\\n",
            "1913   KHERWARA    JHADOL-1        ROHIMALA    82607091  KITAVATON KA VAS   \n",
            "4931   KHERWARA  KHERWARA-2            DERI    82608067              DERI   \n",
            "4970   KHERWARA  KHERWARA-2            DERI    82608067              DERI   \n",
            "11229  KHERWARA  SALUMBAR-1  BASSI JUNJAWAT    82610018   BASSI SINGHAWAT   \n",
            "11272  KHERWARA  SALUMBAR-1  BASSI JUNJAWAT    82610018   BASSI SINGHAWAT   \n",
            "16197  KHERWARA    SARADA-1  SURKHAND KHEDA    82609136           NIMBODA   \n",
            "16289  KHERWARA    SARADA-1  SURKHAND KHEDA    82609136           NIMBODA   \n",
            "20357      PALI    SUMERPUR        SANDERAO    82008046             KORTA   \n",
            "\n",
            "                 UniqueChildCode  Gender        dob  class  \\\n",
            "1913   x1HYtqsX20170403040524062  Female 2010-06-05    6.0   \n",
            "4931   NKwZYsTQ20170426011627481    Male 2005-04-10    7.0   \n",
            "4970   q1jrgR9620170406050349735  Female 2011-02-09    6.0   \n",
            "11229  w5KXtJ0W20170410033127216  Female 2004-04-17    8.0   \n",
            "11272  R7r2wJd620170426023711049    Male 2010-04-20    6.0   \n",
            "16197  8YHtzyv920170429033847151    Male 2009-08-09    6.0   \n",
            "16289  B0slCCvC20170429033333714    Male 2012-07-26    6.0   \n",
            "20357  8YYQ1XxG20161220025537828  Female 2006-10-21    5.0   \n",
            "\n",
            "                      SchoolCode  edu_status  Age  \n",
            "1913   A482705BE17C45ABA52AF7470           2   12  \n",
            "4931   3354EB10C49C4D3581DFD5205           2   17  \n",
            "4970   3354EB10C49C4D3581DFD5205           2   11  \n",
            "11229  C4EE4870A6AE417DA55A79962           2   18  \n",
            "11272  C4EE4870A6AE417DA55A79962           2   12  \n",
            "16197  A2D83BAC637C4578AD738D5D9           2   13  \n",
            "16289  5BC14F0ABF584188990B98ACB           2   10  \n",
            "20357  B453E46CA228444589605AEF7           2   16  \n"
          ]
        }
      ]
    },
    {
      "cell_type": "code",
      "source": [
        "edu3 = data.loc[(data['edu_status']==3) & (data['class'].isin(l))]\n",
        "\n",
        "print(edu3)"
      ],
      "metadata": {
        "colab": {
          "base_uri": "https://localhost:8080/"
        },
        "id": "g6Xn-8ux7aWs",
        "outputId": "fa769eb4-17da-4f99-9057-855d6c2e17d4"
      },
      "execution_count": null,
      "outputs": [
        {
          "output_type": "stream",
          "name": "stdout",
          "text": [
            "       District       Block         Cluster  Village_id       VillageName  \\\n",
            "1918   KHERWARA    JHADOL-1        ROHIMALA    82607091  KITAVATON KA VAS   \n",
            "2505   KHERWARA    JHADOL-2        DAMANA P    82607153             LILDI   \n",
            "4024   KHERWARA  KHERWARA-1         DHIKVAS    82608081     SAMALAI PANVA   \n",
            "4223   KHERWARA  KHERWARA-1      NAYA GAON3    82608055            DECHRA   \n",
            "11228  KHERWARA  SALUMBAR-1  BASSI JUNJAWAT    82610018   BASSI SINGHAWAT   \n",
            "20328      PALI    SUMERPUR        SANDERAO    82008026            BIRAMI   \n",
            "\n",
            "                 UniqueChildCode  Gender        dob  class  \\\n",
            "1918   tp4XFQJX20170426102857887    Male 2010-07-10    6.0   \n",
            "2505   RXKQbT0920170102065952277  Female 2010-05-21    7.0   \n",
            "4024   9BR1NyZx20170406041713109  Female 2010-07-25    6.0   \n",
            "4223   S2stjhnF20170224022811889  Female 2010-03-04    7.0   \n",
            "11228  XHLJRhFm20170410031218295  Female 2004-03-10    7.0   \n",
            "20328  ZCps3J6h20161216032240667  Female 2006-02-04    8.0   \n",
            "\n",
            "                      SchoolCode  edu_status  Age  \n",
            "1918   5C425B14F6C14F9794A746EC5           3   12  \n",
            "2505   06351E78A50B448F9369B7DE0           3   12  \n",
            "4024   D7F1ACAA34AF4D8181CE41651           3   12  \n",
            "4223   CC7E0EAFE2644B71A0DFCC6F0           3   12  \n",
            "11228  C4EE4870A6AE417DA55A79962           3   18  \n",
            "20328  26B6FF4EB0FD4E8390E8B5604           3   16  \n"
          ]
        }
      ]
    },
    {
      "cell_type": "code",
      "source": [
        "#Validating Columns\n",
        "data.loc[data.edu_status == 2 ,'SchoolCode' ] = np.NaN\n",
        "data.loc[data.edu_status == 2 ,'class' ] = np.NaN\n",
        "data.loc[data.edu_status == 3 ,'SchoolCode' ] = np.NaN\n",
        "data.loc[data.edu_status == 3 ,'class' ] = np.NaN"
      ],
      "metadata": {
        "id": "1t6snzuz12Wr"
      },
      "execution_count": null,
      "outputs": []
    },
    {
      "cell_type": "markdown",
      "source": [
        "**Note**\n",
        "\n",
        "Validated the data in the columns by performing operations such as checking for missing values, verifying the data types, and replacing the unwanted values with appropriate ones. This helped to ensure that the data was accurate and reliable for further analysis and modeling."
      ],
      "metadata": {
        "id": "i7N_8MirHM3T"
      }
    },
    {
      "cell_type": "markdown",
      "source": [
        "# **Class vs Age**"
      ],
      "metadata": {
        "id": "7GnovgBGFY1I"
      }
    },
    {
      "cell_type": "code",
      "source": [
        "sns.scatterplot(data=data,x='Age',y='class')"
      ],
      "metadata": {
        "colab": {
          "base_uri": "https://localhost:8080/"
        },
        "id": "neFxzl1CFiDI",
        "outputId": "42a2644d-873d-4851-c5b2-75809881e839"
      },
      "execution_count": null,
      "outputs": [
        {
          "output_type": "execute_result",
          "data": {
            "text/plain": [
              "<matplotlib.axes._subplots.AxesSubplot at 0x7faf29a973a0>"
            ]
          },
          "metadata": {},
          "execution_count": 16
        },
        {
          "output_type": "display_data",
          "data": {
            "text/plain": [
              "<Figure size 432x288 with 1 Axes>"
            ],
            "image/png": "[encoded data removed]"
          },
          "metadata": {
            "needs_background": "light"
          }
        }
      ]
    },
    {
      "cell_type": "markdown",
      "source": [
        "**Observation**\n",
        "\n",
        "\n",
        "*   After carefully examing the plot, it appears that for an age of 8 years, the child is in class 6, which is not possible as ideally for that age, the child should be in class 3 or below due to the education gap. This means that there are outliers in data which we need to remove.\n",
        "\n",
        "\n"
      ],
      "metadata": {
        "id": "HCJSh27EkpXW"
      }
    },
    {
      "cell_type": "markdown",
      "source": [
        "# **Removing Outliers**"
      ],
      "metadata": {
        "id": "V4kyL_mtIB_o"
      }
    },
    {
      "cell_type": "code",
      "source": [
        "#Removing Outliers\n",
        "ndf1 = data.loc[(((data['Age']==8) & (data['class']<=3)) & (data['edu_status']==1))]\n",
        "ndf2 = data.loc[(((data['Age']==9) & (data['class']<=4)) & (data['edu_status']==1))]\n",
        "ndf3 = data.loc[(((data['Age']==10) & (data['class']<=5)) & (data['edu_status']==1))]\n",
        "ndf4 = data.loc[(((data['Age']==11) & (data['class']<=6)) & (data['edu_status']==1))]\n",
        "ndf5 = data.loc[(((data['Age']==12) & (data['class']<=7)) & (data['edu_status']==1))]\n",
        "ndf6 = data.loc[(((data['Age']==13) & (data['class']<=8)) & (data['edu_status']==1))]\n",
        "ndf7 = data.loc[(((data['Age']==14) & (data['class']<=9)) & (data['edu_status']==1))]\n",
        "ndf8 = data.loc[(((data['Age']==15) & (data['class']<=10)) & (data['edu_status']==1))]\n",
        "ndf9 = data.loc[(((data['Age']==16) & (data['class']<=11)) & (data['edu_status']==1))]\n",
        "ndf10 = data.loc[(((data['Age']==17) & (data['class']<=12)) & (data['edu_status']==1))]\n",
        "ndf11 = data.loc[(((data['Age']==18) & (data['class']<=12)) & (data['edu_status']==1))]\n",
        "ndf12 = data.loc[(((data['Age']==19) & (data['class']<=12)) & (data['edu_status']==1))]\n",
        "ndf13 = data.loc[(((data['Age']==20) & (data['class']<=12)) & (data['edu_status']==1))]\n",
        "ndf14 = data.loc[(((data['Age']==21) & (data['class']<=12)) & (data['edu_status']==1))]\n",
        "ndf15 = data.loc[(((data['Age']==22) & (data['class']<=12)) & (data['edu_status']==1))]\n",
        "ndf16 = data.loc[(((data['Age']==23) & (data['class']<=12)) & (data['edu_status']==1))]\n",
        "ndf17 = data.loc[(data['edu_status']==2) | (data['edu_status']==3)]\n",
        "\n",
        "new_data = pd.concat([ndf1,ndf2,ndf3,ndf4,ndf5,ndf6,ndf7,ndf8,ndf9,ndf10,ndf11,ndf12,ndf13,ndf14,ndf15,ndf16,ndf17], axis=0)\n",
        "print(new_data)"
      ],
      "metadata": {
        "id": "SA8XdDZ4jZ7F",
        "colab": {
          "base_uri": "https://localhost:8080/"
        },
        "outputId": "a2e478ba-9da1-4417-e9b0-d11134b935c0"
      },
      "execution_count": null,
      "outputs": [
        {
          "output_type": "stream",
          "name": "stdout",
          "text": [
            "       District     Block   Cluster  Village_id VillageName  \\\n",
            "846    KHERWARA  JHADOL-1     KAREL    82607083    FALASIYA   \n",
            "850    KHERWARA  JHADOL-1     KAREL    82607083    FALASIYA   \n",
            "853    KHERWARA  JHADOL-1     KAREL    82607083    FALASIYA   \n",
            "2887   KHERWARA  JHADOL-2     MADRI    82607037     BAGPURA   \n",
            "3465   KHERWARA  JHADOL-2      OGNA    82607186        OGNA   \n",
            "...         ...       ...       ...         ...         ...   \n",
            "20370      PALI  SUMERPUR  SANDERAO    82008051  PALADI JOD   \n",
            "20371      PALI  SUMERPUR  SANDERAO    82008051  PALADI JOD   \n",
            "20372      PALI  SUMERPUR  SANDERAO    82008051  PALADI JOD   \n",
            "20374      PALI  SUMERPUR  SANDERAO    82008051  PALADI JOD   \n",
            "20375      PALI  SUMERPUR  SANDERAO    82008051  PALADI JOD   \n",
            "\n",
            "                 UniqueChildCode  Gender        dob  class  \\\n",
            "846    4WXtLNlJ20170406024354368  Female 2013-02-07    2.0   \n",
            "850    XjpZHRSY20170406052937447  Female 2013-04-11    2.0   \n",
            "853    ZJyGrT1Y20170406051618104  Female 2013-05-02    2.0   \n",
            "2887   7ZzgSYJ420170323114236458  Female 2013-07-20    2.0   \n",
            "3465   6ZTXJDZ420170103090044412  Female 2013-10-20    3.0   \n",
            "...                          ...     ...        ...    ...   \n",
            "20370  56dylRyv20161216011407683  Female 2010-10-19    NaN   \n",
            "20371  wDtfZf1l20161216125742973  Female 2010-10-24    NaN   \n",
            "20372  RWjfGKXD20161216125119720  Female 2011-01-21    NaN   \n",
            "20374  2Hdf8YZH20161216123238104  Female 2011-03-17    NaN   \n",
            "20375  6ywYN91820161216124204281  Female 2011-06-13    NaN   \n",
            "\n",
            "                      SchoolCode  edu_status  Age  \n",
            "846    B53F3AE4428744FEAF079CFBE           1    9  \n",
            "850    buHPJDyQ20170406052656037           1    9  \n",
            "853    B53F3AE4428744FEAF079CFBE           1    9  \n",
            "2887   347BD45194A24961ABFA3FBAD           1    9  \n",
            "3465   E43F3AFFE52E48488C61C6972           1    9  \n",
            "...                          ...         ...  ...  \n",
            "20370                        NaN           2   12  \n",
            "20371                        NaN           3   12  \n",
            "20372                        NaN           3   12  \n",
            "20374                        NaN           2   11  \n",
            "20375                        NaN           2   11  \n",
            "\n",
            "[20041 rows x 12 columns]\n"
          ]
        }
      ]
    },
    {
      "cell_type": "code",
      "source": [
        "sns.scatterplot(data=new_data,x='Age',y='class')"
      ],
      "metadata": {
        "colab": {
          "base_uri": "https://localhost:8080/"
        },
        "id": "Z2lLGygXH-9Z",
        "outputId": "7758f725-85c1-4d5b-ad9e-18f73627b747"
      },
      "execution_count": null,
      "outputs": [
        {
          "output_type": "execute_result",
          "data": {
            "text/plain": [
              "<matplotlib.axes._subplots.AxesSubplot at 0x7faf296ed910>"
            ]
          },
          "metadata": {},
          "execution_count": 18
        },
        {
          "output_type": "display_data",
          "data": {
            "text/plain": [
              "<Figure size 432x288 with 1 Axes>"
            ],
            "image/png": "[encoded data removed]"
          },
          "metadata": {
            "needs_background": "light"
          }
        }
      ]
    },
    {
      "cell_type": "markdown",
      "source": [
        "**Observation**\n",
        "\n",
        "\n",
        "*   Ideally as the age increases their class should also increase but here we can see that it is not the case there are still kids which are of age 14 and 15 years but are still in class 5 this is due to consistency in their education.\n",
        " "
      ],
      "metadata": {
        "id": "r5X_dqfZjj3t"
      }
    },
    {
      "cell_type": "markdown",
      "source": [
        "# **Kherwara District**"
      ],
      "metadata": {
        "id": "mXPlCzeY1ejX"
      }
    },
    {
      "cell_type": "markdown",
      "source": [
        "# **Kherwara Data**"
      ],
      "metadata": {
        "id": "gXJGKibEc14U"
      }
    },
    {
      "cell_type": "code",
      "source": [
        "kherwara = new_data.loc[new_data['District']=='KHERWARA']\n",
        "print(kherwara.head(5))"
      ],
      "metadata": {
        "id": "C9pe62OK1jcH",
        "colab": {
          "base_uri": "https://localhost:8080/"
        },
        "outputId": "4589d91b-a6a9-4238-edfc-783758608d91"
      },
      "execution_count": null,
      "outputs": [
        {
          "output_type": "stream",
          "name": "stdout",
          "text": [
            "      District     Block Cluster  Village_id VillageName  \\\n",
            "846   KHERWARA  JHADOL-1   KAREL    82607083    FALASIYA   \n",
            "850   KHERWARA  JHADOL-1   KAREL    82607083    FALASIYA   \n",
            "853   KHERWARA  JHADOL-1   KAREL    82607083    FALASIYA   \n",
            "2887  KHERWARA  JHADOL-2   MADRI    82607037     BAGPURA   \n",
            "3465  KHERWARA  JHADOL-2    OGNA    82607186        OGNA   \n",
            "\n",
            "                UniqueChildCode  Gender        dob  class  \\\n",
            "846   4WXtLNlJ20170406024354368  Female 2013-02-07    2.0   \n",
            "850   XjpZHRSY20170406052937447  Female 2013-04-11    2.0   \n",
            "853   ZJyGrT1Y20170406051618104  Female 2013-05-02    2.0   \n",
            "2887  7ZzgSYJ420170323114236458  Female 2013-07-20    2.0   \n",
            "3465  6ZTXJDZ420170103090044412  Female 2013-10-20    3.0   \n",
            "\n",
            "                     SchoolCode  edu_status  Age  \n",
            "846   B53F3AE4428744FEAF079CFBE           1    9  \n",
            "850   buHPJDyQ20170406052656037           1    9  \n",
            "853   B53F3AE4428744FEAF079CFBE           1    9  \n",
            "2887  347BD45194A24961ABFA3FBAD           1    9  \n",
            "3465  E43F3AFFE52E48488C61C6972           1    9  \n"
          ]
        }
      ]
    },
    {
      "cell_type": "markdown",
      "source": [
        "# **Distribution of Age**"
      ],
      "metadata": {
        "id": "pMk8OBJQc6Qr"
      }
    },
    {
      "cell_type": "code",
      "source": [
        "#Distribution of Age\n",
        "sns.histplot(kherwara['Age'],bins=5).set(title='Distribution of Age')"
      ],
      "metadata": {
        "colab": {
          "base_uri": "https://localhost:8080/"
        },
        "id": "A8TfZYeL2nS_",
        "outputId": "3611224d-e63a-4d3d-db71-97463aaba542"
      },
      "execution_count": null,
      "outputs": [
        {
          "output_type": "execute_result",
          "data": {
            "text/plain": [
              "[Text(0.5, 1.0, 'Distribution of Age')]"
            ]
          },
          "metadata": {},
          "execution_count": 24
        },
        {
          "output_type": "display_data",
          "data": {
            "text/plain": [
              "<Figure size 432x288 with 1 Axes>"
            ],
            "image/png": "[encoded data removed]"
          },
          "metadata": {
            "needs_background": "light"
          }
        }
      ]
    },
    {
      "cell_type": "code",
      "source": [
        "egt_ten = kherwara.loc[(kherwara['Age']>=8) & (kherwara['Age']<=10)]\n",
        "print(f'8-10 : {round(len(egt_ten)/len(kherwara)*100,2)}%')\n",
        "\n",
        "eln_thr = kherwara.loc[(kherwara['Age']>=11) & (kherwara['Age']<=13)]\n",
        "print(f'11-13 : {round(len(eln_thr)/len(kherwara)*100,2)}%')\n",
        "\n",
        "for_six = kherwara.loc[(kherwara['Age']>=14) & (kherwara['Age']<=16)]\n",
        "print(f'14-16 : {round(len(for_six)/len(kherwara)*100,2)}%')\n",
        "\n",
        "svn_nin = kherwara.loc[(kherwara['Age']>=17) & (kherwara['Age']<=19)]\n",
        "print(f'17-19 : {round(len(svn_nin)/len(kherwara)*100,2)}%')\n",
        "\n",
        "twn_two = kherwara.loc[(kherwara['Age']>=20) & (kherwara['Age']<=22)]\n",
        "print(f'20-22 : {round(len(twn_two)/len(kherwara)*100,2)}%')\n"
      ],
      "metadata": {
        "colab": {
          "base_uri": "https://localhost:8080/"
        },
        "id": "--PGjYM-OOda",
        "outputId": "ee87de1d-09ed-4412-8d0c-24ed11ee64ae"
      },
      "execution_count": null,
      "outputs": [
        {
          "output_type": "stream",
          "name": "stdout",
          "text": [
            "8-10 : 4.75%\n",
            "11-13 : 75.19%\n",
            "14-16 : 13.73%\n",
            "17-19 : 5.74%\n",
            "20-22 : 0.58%\n"
          ]
        }
      ]
    },
    {
      "cell_type": "markdown",
      "source": [
        "**Observation**\n",
        "\n",
        "*   It is observed that 75% of the children fall within the age group of 11-13 years old.\n",
        "\n",
        "*   The kids of age group 20-22 years old are even less than 1%.\n",
        "\n"
      ],
      "metadata": {
        "id": "86sJj9HduZs2"
      }
    },
    {
      "cell_type": "markdown",
      "source": [
        "# **Distribution of Gender**"
      ],
      "metadata": {
        "id": "AuDaHTnNc_cD"
      }
    },
    {
      "cell_type": "code",
      "source": [
        "#Distribution of Gender\n",
        "sns.histplot(kherwara['Gender']).set(title='Distribution of Gender')"
      ],
      "metadata": {
        "colab": {
          "base_uri": "https://localhost:8080/"
        },
        "id": "rmVUjMLV5hn9",
        "outputId": "f425c85e-ccd5-4fc4-94a7-0629efe76a8a"
      },
      "execution_count": null,
      "outputs": [
        {
          "output_type": "execute_result",
          "data": {
            "text/plain": [
              "[Text(0.5, 1.0, 'Distribution of Gender')]"
            ]
          },
          "metadata": {},
          "execution_count": 26
        },
        {
          "output_type": "display_data",
          "data": {
            "text/plain": [
              "<Figure size 432x288 with 1 Axes>"
            ],
            "image/png": "[encoded data removed]"
          },
          "metadata": {
            "needs_background": "light"
          }
        }
      ]
    },
    {
      "cell_type": "code",
      "source": [
        "khr_female = kherwara.loc[kherwara['Gender']=='Female']\n",
        "print(f'Women : {round(len(khr_female)/len(kherwara)*100,2)}%')\n",
        "\n",
        "khr_male = kherwara.loc[kherwara['Gender']=='Male']\n",
        "print(f'Men : {round(len(khr_male)/len(kherwara)*100,2)}%')"
      ],
      "metadata": {
        "colab": {
          "base_uri": "https://localhost:8080/"
        },
        "id": "YkA-P8YId96L",
        "outputId": "39a96c6d-7892-4ea4-9d62-b167fde15d3f"
      },
      "execution_count": null,
      "outputs": [
        {
          "output_type": "stream",
          "name": "stdout",
          "text": [
            "Women : 60.75%\n",
            "Men : 39.25%\n"
          ]
        }
      ]
    },
    {
      "cell_type": "markdown",
      "source": [
        "**Observation**\n",
        "\n",
        "*   60% of the kids are female and rest 40% are male.\n"
      ],
      "metadata": {
        "id": "yw0bRct-6Ktn"
      }
    },
    {
      "cell_type": "markdown",
      "source": [
        "# **Distribution of Education_Status**"
      ],
      "metadata": {
        "id": "hrZg9kdbdFAr"
      }
    },
    {
      "cell_type": "code",
      "source": [
        "#Distribution of Education_Status\n",
        "sns.countplot(data=kherwara,x='edu_status',palette='gray').set(title='Kherwara Education_Status')"
      ],
      "metadata": {
        "colab": {
          "base_uri": "https://localhost:8080/"
        },
        "id": "tjELPlLt-rKb",
        "outputId": "5a5c53a9-34c6-462c-cbf3-ef10cfd35239"
      },
      "execution_count": null,
      "outputs": [
        {
          "output_type": "execute_result",
          "data": {
            "text/plain": [
              "[Text(0.5, 1.0, 'Kherwara Education_Status')]"
            ]
          },
          "metadata": {},
          "execution_count": 28
        },
        {
          "output_type": "display_data",
          "data": {
            "text/plain": [
              "<Figure size 432x288 with 1 Axes>"
            ],
            "image/png": "[encoded data removed]"
          },
          "metadata": {
            "needs_background": "light"
          }
        }
      ]
    },
    {
      "cell_type": "code",
      "source": [
        "khr_enrolled = kherwara.loc[kherwara['edu_status']==1]\n",
        "print(f'Enrolled in School : {round(len(khr_enrolled)/len(kherwara)*100,2)}%')\n",
        "\n",
        "khr_out_of_school = kherwara.loc[(kherwara['edu_status']==2) | (kherwara['edu_status']==3)]\n",
        "print(f'Out of School : {round(len(khr_out_of_school)/len(kherwara)*100,2)}%')"
      ],
      "metadata": {
        "colab": {
          "base_uri": "https://localhost:8080/"
        },
        "id": "imY_m6--kC1B",
        "outputId": "84eb06f9-a11b-4fde-8a81-a659f1e42eac"
      },
      "execution_count": null,
      "outputs": [
        {
          "output_type": "stream",
          "name": "stdout",
          "text": [
            "Enrolled in School : 31.77%\n",
            "Out of School : 68.23%\n"
          ]
        }
      ]
    },
    {
      "cell_type": "markdown",
      "source": [
        "**Observation**\n",
        "\n",
        "*   Out of all only 32% kids are enrolled in the school and are receiving education, while the remaining 68% are still Out of School."
      ],
      "metadata": {
        "id": "_NTSolxZj-EJ"
      }
    },
    {
      "cell_type": "markdown",
      "source": [
        "# **Top 5 Blocks with Most Out of School**"
      ],
      "metadata": {
        "id": "8e4diwdwdK0T"
      }
    },
    {
      "cell_type": "code",
      "source": [
        "#Top 5 Blocks with Most Out of School in Kherwara District\n",
        "khr_blocks = kherwara.loc[(kherwara['edu_status']==2) | (kherwara['edu_status']==3)]\n",
        "khr_freq_dict_blk = {}\n",
        "for khr_block in khr_blocks['Block']:\n",
        "  if khr_block in khr_freq_dict_blk:\n",
        "    khr_freq_dict_blk[khr_block] = khr_freq_dict_blk[khr_block]+1\n",
        "  else:\n",
        "    khr_freq_dict_blk[khr_block] = 1\n",
        "sorted_khr_freq_dict_blk = sorted(khr_freq_dict_blk.items(),key=lambda x:x[1],reverse=True)\n",
        "Top_5_Kherwara_Blocks = pd.DataFrame(sorted_khr_freq_dict_blk,columns=['Block','Count'])\n",
        "Top_5_Kherwara_Blocks = Top_5_Kherwara_Blocks.head(5)\n",
        "sns.barplot(data=Top_5_Kherwara_Blocks,x='Count',y='Block',palette='GnBu_d').set(title='Top 5 Blocks with Most Out of School')"
      ],
      "metadata": {
        "id": "RCmuyn6G6MjO",
        "colab": {
          "base_uri": "https://localhost:8080/"
        },
        "outputId": "842b2c50-c17d-4892-f5ef-6eaee87a6b1a"
      },
      "execution_count": null,
      "outputs": [
        {
          "output_type": "execute_result",
          "data": {
            "text/plain": [
              "[Text(0.5, 1.0, 'Top 5 Blocks with Most Out of School')]"
            ]
          },
          "metadata": {},
          "execution_count": 30
        },
        {
          "output_type": "display_data",
          "data": {
            "text/plain": [
              "<Figure size 432x288 with 1 Axes>"
            ],
            "image/png": "[encoded data removed]"
          },
          "metadata": {
            "needs_background": "light"
          }
        }
      ]
    },
    {
      "cell_type": "code",
      "source": [
        "las = kherwara.loc[kherwara['Block']=='LASADIYA']\n",
        "las_out_of_school = las.loc[(las['edu_status']==2) | (las['edu_status']==3)]\n",
        "print(f'Out of School from Lasadiya Block : {round(len(las_out_of_school)/len(las)*100,2)}%')\n",
        "\n",
        "rish = kherwara.loc[kherwara['Block']=='RISHABHDEV']\n",
        "rish_out_of_school = rish.loc[(rish['edu_status']==2) | (rish['edu_status']==3)]\n",
        "print(f'Out of School from Rishabhdev Block: {round(len(rish_out_of_school)/len(rish)*100,2)}%')\n",
        "\n",
        "sar1 = kherwara.loc[kherwara['Block']=='SARADA-1']\n",
        "sar1_out_of_school = sar1.loc[(sar1['edu_status']==2) | (sar1['edu_status']==3)]\n",
        "print(f'Out of School from Sarada-1 Block : {round(len(sar1_out_of_school)/len(sar1)*100,2)}%')\n",
        "\n",
        "sar2 = kherwara.loc[kherwara['Block']=='SARADA-2']\n",
        "sar2_out_of_school = sar2.loc[(sar2['edu_status']==2) | (sar2['edu_status']==3)]\n",
        "print(f'Out of School from Sarada-2 Block : {round(len(sar2_out_of_school)/len(sar2)*100,2)}%')\n",
        "\n",
        "jha = kherwara.loc[kherwara['Block']=='JHADOL-1']\n",
        "jha_out_of_school = jha.loc[(jha['edu_status']==2) | (jha['edu_status']==3)]\n",
        "print(f'Out of School from Jhadol-1 Block : {round(len(jha_out_of_school)/len(jha)*100,2)}%')"
      ],
      "metadata": {
        "colab": {
          "base_uri": "https://localhost:8080/"
        },
        "id": "-FMa_o1Wp5F6",
        "outputId": "315bc869-cddf-4fc4-f461-eb2de32b5298"
      },
      "execution_count": null,
      "outputs": [
        {
          "output_type": "stream",
          "name": "stdout",
          "text": [
            "Out of School from Lasadiya Block : 68.33%\n",
            "Out of School from Rishabhdev Block: 68.75%\n",
            "Out of School from Sarada-1 Block : 68.52%\n",
            "Out of School from Sarada-2 Block : 68.12%\n",
            "Out of School from Jhadol-1 Block : 66.19%\n"
          ]
        }
      ]
    },
    {
      "cell_type": "markdown",
      "source": [
        "**Observation**\n",
        "\n",
        "*   As we can see that from every Block almost 68% of the kids are out of School.\n",
        "\n",
        "*   Lasadiya, Rishabhdev, Sarada-1, Sarada-2 and Jhadhol-1 are Top 5 Blocks with Most Out of School.\n"
      ],
      "metadata": {
        "id": "eSVU6cz4YJfp"
      }
    },
    {
      "cell_type": "markdown",
      "source": [
        "# **Top 5 Cluster with Most Out of School**"
      ],
      "metadata": {
        "id": "AfYovw8adY0z"
      }
    },
    {
      "cell_type": "code",
      "source": [
        "#Top 5 Cluster with Most Out of School in Kherwara District\n",
        "khr_clusters = kherwara.loc[(kherwara['edu_status']==2) | (kherwara['edu_status']==3)]\n",
        "khr_freq_dict_cls = {}\n",
        "for cluster in khr_clusters['Cluster']:\n",
        "  if cluster in khr_freq_dict_cls:\n",
        "    khr_freq_dict_cls[cluster] = khr_freq_dict_cls[cluster]+1\n",
        "  else:\n",
        "    khr_freq_dict_cls[cluster] = 1\n",
        "sorted_khr_freq_dict_cls = sorted(khr_freq_dict_cls.items(),key=lambda x:x[1],reverse=True)\n",
        "Top_5_Kherwara_Cluster = pd.DataFrame(sorted_khr_freq_dict_cls,columns=['Cluster','Count'])\n",
        "Top_5_Kherwara_Cluster = Top_5_Kherwara_Cluster.head(5)\n",
        "sns.barplot(data=Top_5_Kherwara_Cluster,x='Count',y='Cluster',palette='Greens_d').set(title='Top 5 Clusters with Most Out of School')"
      ],
      "metadata": {
        "colab": {
          "base_uri": "https://localhost:8080/"
        },
        "id": "skMOHvggX83L",
        "outputId": "c29c305f-eb97-4e9c-ecd0-029a9783d485"
      },
      "execution_count": null,
      "outputs": [
        {
          "output_type": "execute_result",
          "data": {
            "text/plain": [
              "[Text(0.5, 1.0, 'Top 5 Clusters with Most Out of School')]"
            ]
          },
          "metadata": {},
          "execution_count": 32
        },
        {
          "output_type": "display_data",
          "data": {
            "text/plain": [
              "<Figure size 432x288 with 1 Axes>"
            ],
            "image/png": "[encoded data removed]"
          },
          "metadata": {
            "needs_background": "light"
          }
        }
      ]
    },
    {
      "cell_type": "code",
      "source": [
        "bhu = kherwara.loc[kherwara['Cluster']=='BHUDHAR']\n",
        "bhu_out_of_school = bhu.loc[(bhu['edu_status']==2) | (bhu['edu_status']==3)]\n",
        "print(f'Out of School from Bhudhar Cluster : {round(len(bhu_out_of_school)/len(bhu)*100,2)}%')\n",
        "\n",
        "bed = kherwara.loc[kherwara['Cluster']=='BEDAS']\n",
        "bed_out_of_school = bed.loc[(bed['edu_status']==2) | (bed['edu_status']==3)]\n",
        "print(f'Out of School from Bedas Cluster : {round(len(bed_out_of_school)/len(bed)*100,2)}%')\n",
        "\n",
        "kev = kherwara.loc[kherwara['Cluster']=='KEVDA KHURD']\n",
        "kev_out_of_school = kev.loc[(kev['edu_status']==2) | (kev['edu_status']==3)]\n",
        "print(f'Out of School from Kevda Khurd Cluster : {round(len(kev_out_of_school)/len(kev)*100,2)}%')\n",
        "\n",
        "gat = kherwara.loc[kherwara['Cluster']=='GATOD']\n",
        "gat_out_of_school = gat.loc[(gat['edu_status']==2) | (gat['edu_status']==3)]\n",
        "print(f'Out of School from Gatod Cluster : {round(len(gat_out_of_school)/len(gat)*100,2)}%')\n",
        "\n",
        "bas = kherwara.loc[kherwara['Cluster']=='BASSI JUNJAWAT']\n",
        "bas_out_of_school = bas.loc[(bas['edu_status']==2) | (bas['edu_status']==3)]\n",
        "print(f'Out of School from Bassi Junjawat Cluster : {round(len(bas_out_of_school)/len(bas)*100,2)}%')"
      ],
      "metadata": {
        "colab": {
          "base_uri": "https://localhost:8080/"
        },
        "id": "_J5nlzUC55D5",
        "outputId": "b90f2a73-d68c-49b3-bb00-10581fc0ea0f"
      },
      "execution_count": null,
      "outputs": [
        {
          "output_type": "stream",
          "name": "stdout",
          "text": [
            "Out of School from Bhudhar Cluster : 65.23%\n",
            "Out of School from Bedas Cluster : 69.27%\n",
            "Out of School from Kevda Khurd Cluster : 70.26%\n",
            "Out of School from Gatod Cluster : 66.36%\n",
            "Out of School from Bassi Junjawat Cluster : 67.12%\n"
          ]
        }
      ]
    },
    {
      "cell_type": "markdown",
      "source": [
        "**Observation**\n",
        "\n",
        "*   As we can see that from every Cluster almost 65-70% of the kids are out of School.\n",
        "\n",
        "*   Bhudhar, Bedas, Kevda, Gatod and Bassi Junjawat are Top 5 Clusters with Most Out of School.\n",
        "\n",
        "*   Bhudhar comes under Rishabhdev Block, Bedas comes under Lasadiya Block and Gatod comes under Saradar-1 and Saradar-2 Block which are also part of Top 5 Blocks with Most Out of School.\n"
      ],
      "metadata": {
        "id": "J4CRxQ1WZ4VN"
      }
    },
    {
      "cell_type": "markdown",
      "source": [
        "# **Pali Dsitrict**"
      ],
      "metadata": {
        "id": "8-4117X8vT70"
      }
    },
    {
      "cell_type": "markdown",
      "source": [
        "# **Pali Data**"
      ],
      "metadata": {
        "id": "-u_pOguZdjy7"
      }
    },
    {
      "cell_type": "code",
      "source": [
        "pali = new_data.loc[new_data['District']=='PALI']\n",
        "print(pali.head(5))"
      ],
      "metadata": {
        "id": "35rjarB7vg8r",
        "colab": {
          "base_uri": "https://localhost:8080/"
        },
        "outputId": "8dbdd35d-b57e-4766-8c0a-ca78ac3c09d2"
      },
      "execution_count": null,
      "outputs": [
        {
          "output_type": "stream",
          "name": "stdout",
          "text": [
            "      District Block   Cluster  Village_id VillageName  \\\n",
            "18650     PALI  BALI  BISALPUR    82009010    BISALPUR   \n",
            "18657     PALI  BALI  BISALPUR    82009011  FALNA GAON   \n",
            "18664     PALI  BALI  BISALPUR    82009091      JADARI   \n",
            "18665     PALI  BALI  BISALPUR    82009091      JADARI   \n",
            "18668     PALI  BALI  BISALPUR    82009034     KARANWA   \n",
            "\n",
            "                 UniqueChildCode  Gender        dob  class  \\\n",
            "18650  nxrgQMZg20161212011022785  Female 2011-10-28    6.0   \n",
            "18657  3QwmwrJR20161212012314432  Female 2011-02-22    6.0   \n",
            "18664  qg1YMhZz20161215114142616  Female 2011-03-24    6.0   \n",
            "18665  QNZK4ssg20161215113956752  Female 2011-08-07    6.0   \n",
            "18668  jyk3l9HX20161212013434855  Female 2012-01-21    6.0   \n",
            "\n",
            "                      SchoolCode  edu_status  Age  \n",
            "18650  8A882735B56F421993594A010           1   11  \n",
            "18657  3808AF097D264387BB95CF044           1   11  \n",
            "18664  BC0C6A136B654719A337665CD           1   11  \n",
            "18665  BC0C6A136B654719A337665CD           1   11  \n",
            "18668  655067C2DB434F77B3BC5E462           1   11  \n"
          ]
        }
      ]
    },
    {
      "cell_type": "markdown",
      "source": [
        "# **Distribution of Age**"
      ],
      "metadata": {
        "id": "JAy8VFwGdnFD"
      }
    },
    {
      "cell_type": "code",
      "source": [
        "#Distribution of Age\n",
        "sns.histplot(pali['Age'],bins=5).set(title='Distribution of Age')"
      ],
      "metadata": {
        "colab": {
          "base_uri": "https://localhost:8080/"
        },
        "id": "TAwJpkXmwQ9c",
        "outputId": "fd2fd59f-beff-4324-b0ac-624d4fb70ad0"
      },
      "execution_count": null,
      "outputs": [
        {
          "output_type": "execute_result",
          "data": {
            "text/plain": [
              "[Text(0.5, 1.0, 'Distribution of Age')]"
            ]
          },
          "metadata": {},
          "execution_count": 35
        },
        {
          "output_type": "display_data",
          "data": {
            "text/plain": [
              "<Figure size 432x288 with 1 Axes>"
            ],
            "image/png": "[encoded data removed]"
          },
          "metadata": {
            "needs_background": "light"
          }
        }
      ]
    },
    {
      "cell_type": "code",
      "source": [
        "eit_ten = pali.loc[(pali['Age']>=8) & (pali['Age']<=10)]\n",
        "print(f'8-10 : {round(len(eit_ten)/len(pali)*100,2)}%')\n",
        "\n",
        "evn_thr = pali.loc[(pali['Age']>=11) & (pali['Age']<=13)]\n",
        "print(f'11-13 : {round(len(evn_thr)/len(pali)*100,2)}%')\n",
        "\n",
        "four_six = pali.loc[(pali['Age']>=14) & (pali['Age']<=16)]\n",
        "print(f'14-16 : {round(len(four_six)/len(pali)*100,2)}%')\n",
        "\n",
        "sve_nin = pali.loc[(pali['Age']>=17) & (pali['Age']<=19)]\n",
        "print(f'17-19 : {round(len(sve_nin)/len(pali)*100,2)}%')\n",
        "\n",
        "twt_two = pali.loc[(pali['Age']>=20) & (pali['Age']<=22)]\n",
        "print(f'20-22 : {round(len(twn_two)/len(pali)*100,2)}%')\n"
      ],
      "metadata": {
        "colab": {
          "base_uri": "https://localhost:8080/"
        },
        "id": "ZK0NShUCCMOC",
        "outputId": "8ab57422-3e75-4408-80d9-496608fa5715"
      },
      "execution_count": null,
      "outputs": [
        {
          "output_type": "stream",
          "name": "stdout",
          "text": [
            "8-10 : 3.3%\n",
            "11-13 : 53.56%\n",
            "14-16 : 23.54%\n",
            "17-19 : 17.66%\n",
            "20-22 : 6.3%\n"
          ]
        }
      ]
    },
    {
      "cell_type": "markdown",
      "source": [
        "**Observation**\n",
        "\n",
        "*   53% of the kids fall in the age group of 11-13 years old while 23% fall in the age group of 14-16 years old.\n",
        "\n",
        "*   Least population is from 8-10 years age group ie.3% which is opposite of what we saw in the Kherwara District.\n"
      ],
      "metadata": {
        "id": "ZoWsFWnWxKCa"
      }
    },
    {
      "cell_type": "markdown",
      "source": [
        "# **Distribution of Gender**"
      ],
      "metadata": {
        "id": "tvkCZiNbdqsz"
      }
    },
    {
      "cell_type": "code",
      "source": [
        "#Distribution of Gender\n",
        "sns.histplot(pali['Gender']).set(title='Distribution of Gender')"
      ],
      "metadata": {
        "colab": {
          "base_uri": "https://localhost:8080/"
        },
        "id": "Hdd4uW2Awk-7",
        "outputId": "a8b1b743-1a39-4288-cba6-ff68a9b24728"
      },
      "execution_count": null,
      "outputs": [
        {
          "output_type": "execute_result",
          "data": {
            "text/plain": [
              "[Text(0.5, 1.0, 'Distribution of Gender')]"
            ]
          },
          "metadata": {},
          "execution_count": 37
        },
        {
          "output_type": "display_data",
          "data": {
            "text/plain": [
              "<Figure size 432x288 with 1 Axes>"
            ],
            "image/png": "[encoded data removed]"
          },
          "metadata": {
            "needs_background": "light"
          }
        }
      ]
    },
    {
      "cell_type": "code",
      "source": [
        "pli_female = pali.loc[pali['Gender']=='Female']\n",
        "print(f'Women : {round(len(pli_female)/len(pali)*100,2)}%')\n",
        "\n",
        "pli_male = pali.loc[pali['Gender']=='Male']\n",
        "print(f'Men : {round(len(pli_male)/len(pali)*100,2)}%')"
      ],
      "metadata": {
        "colab": {
          "base_uri": "https://localhost:8080/"
        },
        "id": "6rM3VQqnLKcC",
        "outputId": "7658b49c-4fb8-4ab8-bd25-0adb22f80748"
      },
      "execution_count": null,
      "outputs": [
        {
          "output_type": "stream",
          "name": "stdout",
          "text": [
            "Women : 100.0%\n",
            "Men : 0.0%\n"
          ]
        }
      ]
    },
    {
      "cell_type": "markdown",
      "source": [
        "**Observation**\n",
        "\n",
        "*   In Pali District all the kids are Female."
      ],
      "metadata": {
        "id": "h8bk61dCxUva"
      }
    },
    {
      "cell_type": "markdown",
      "source": [
        "# **Distribution of Education_Status**"
      ],
      "metadata": {
        "id": "TvhtQkd1dwq7"
      }
    },
    {
      "cell_type": "code",
      "source": [
        "#Distribution of Education_Status\n",
        "sns.countplot(data=pali,x='edu_status',palette='gray').set(title='Pali Education_Status')"
      ],
      "metadata": {
        "colab": {
          "base_uri": "https://localhost:8080/"
        },
        "id": "mW651ZduAcEi",
        "outputId": "88add6ab-28e6-46cf-df1a-6ac040112817"
      },
      "execution_count": null,
      "outputs": [
        {
          "output_type": "execute_result",
          "data": {
            "text/plain": [
              "[Text(0.5, 1.0, 'Pali Education_Status')]"
            ]
          },
          "metadata": {},
          "execution_count": 39
        },
        {
          "output_type": "display_data",
          "data": {
            "text/plain": [
              "<Figure size 432x288 with 1 Axes>"
            ],
            "image/png": "[encoded data removed]"
          },
          "metadata": {
            "needs_background": "light"
          }
        }
      ]
    },
    {
      "cell_type": "code",
      "source": [
        "pli_enrolled = pali.loc[pali['edu_status']==1]\n",
        "print(f'Enrolled in School : {round(len(pli_enrolled)/len(pali)*100,2)}%')\n",
        "\n",
        "pli_out_of_school = pali.loc[(pali['edu_status']==2) | (pali['edu_status']==3)]\n",
        "print(f'Out of School : {round(len(pli_out_of_school)/len(pali)*100,2)}%')"
      ],
      "metadata": {
        "colab": {
          "base_uri": "https://localhost:8080/"
        },
        "id": "8ehVlEyQL06J",
        "outputId": "ca2d9df3-fb27-413e-d902-5e308bde9193"
      },
      "execution_count": null,
      "outputs": [
        {
          "output_type": "stream",
          "name": "stdout",
          "text": [
            "Enrolled in School : 30.49%\n",
            "Out of School : 69.51%\n"
          ]
        }
      ]
    },
    {
      "cell_type": "markdown",
      "source": [
        "**Observation**\n",
        "\n",
        "*   Out of all only 30% kids are enrolled in the school and are receiving education, while the remaining 70% are still Out of School.\n"
      ],
      "metadata": {
        "id": "rwpXoquSMekp"
      }
    },
    {
      "cell_type": "markdown",
      "source": [
        "# **Top 5 Blocks with Most Out of School**"
      ],
      "metadata": {
        "id": "QPCdAP9nd277"
      }
    },
    {
      "cell_type": "code",
      "source": [
        "#Top 5 Blocks with Most Out of School in Pali District\n",
        "pli_blocks = pali.loc[(pali['edu_status']==2) | (pali['edu_status']==3)]\n",
        "pli_freq_dict_blk = {}\n",
        "for pli_block in pli_blocks['Block']:\n",
        "  if pli_block in pli_freq_dict_blk:\n",
        "    pli_freq_dict_blk[pli_block] = pli_freq_dict_blk[pli_block]+1\n",
        "  else:\n",
        "    pli_freq_dict_blk[pli_block] = 1\n",
        "sorted_pli_freq_dict_blk = sorted(pli_freq_dict_blk.items(),key=lambda x:x[1],reverse=True)\n",
        "Top_5_Pali_Blocks = pd.DataFrame(sorted_pli_freq_dict_blk,columns=['Block','Count'])\n",
        "Top_5_Pali_Blocks = Top_5_Pali_Blocks.head(5)\n",
        "sns.barplot(data=Top_5_Pali_Blocks,x='Count',y='Block',palette='PuRd').set(title='Top 5 Blocks with Most Out of School')"
      ],
      "metadata": {
        "colab": {
          "base_uri": "https://localhost:8080/"
        },
        "id": "nAZok_eBxVUD",
        "outputId": "7d5a2108-56f0-42a0-c576-83734f53a2e4"
      },
      "execution_count": null,
      "outputs": [
        {
          "output_type": "execute_result",
          "data": {
            "text/plain": [
              "[Text(0.5, 1.0, 'Top 5 Blocks with Most Out of School')]"
            ]
          },
          "metadata": {},
          "execution_count": 41
        },
        {
          "output_type": "display_data",
          "data": {
            "text/plain": [
              "<Figure size 432x288 with 1 Axes>"
            ],
            "image/png": "[encoded data removed]"
          },
          "metadata": {
            "needs_background": "light"
          }
        }
      ]
    },
    {
      "cell_type": "code",
      "source": [
        "rai = pali.loc[pali['Block']=='RAIPUR']\n",
        "rai_out_of_school = rai.loc[(rai['edu_status']==2) | (rai['edu_status']==3)]\n",
        "print(f'Out of School from Raipur Block : {round(len(rai_out_of_school)/len(rai)*100,2)}%')\n",
        "\n",
        "soj = pali.loc[pali['Block']=='SOJAT']\n",
        "soj_out_of_school = soj.loc[(soj['edu_status']==2) | (soj['edu_status']==3)]\n",
        "print(f'Out of School from Sojat Block: {round(len(soj_out_of_school)/len(soj)*100,2)}%')\n",
        "\n",
        "jai = pali.loc[pali['Block']=='JAITARAN']\n",
        "jai_out_of_school = jai.loc[(jai['edu_status']==2) | (jai['edu_status']==3)]\n",
        "print(f'Out of School from Jaitaran Block : {round(len(jai_out_of_school)/len(jai)*100,2)}%')\n",
        "\n",
        "des = pali.loc[pali['Block']=='DESURI']\n",
        "des_out_of_school = des.loc[(des['edu_status']==2) | (des['edu_status']==3)]\n",
        "print(f'Out of School from Desuri Block : {round(len(des_out_of_school)/len(des)*100,2)}%')\n",
        "\n",
        "rani = pali.loc[pali['Block']=='RANI']\n",
        "rani_out_of_school = rani.loc[(rani['edu_status']==2) | (rani['edu_status']==3)]\n",
        "print(f'Out of School from Rani Block : {round(len(rani_out_of_school)/len(rani)*100,2)}%')"
      ],
      "metadata": {
        "colab": {
          "base_uri": "https://localhost:8080/"
        },
        "id": "bOSMNXbOM5zR",
        "outputId": "b3055234-e112-4681-e543-5a62645dc508"
      },
      "execution_count": null,
      "outputs": [
        {
          "output_type": "stream",
          "name": "stdout",
          "text": [
            "Out of School from Raipur Block : 71.43%\n",
            "Out of School from Sojat Block: 67.56%\n",
            "Out of School from Jaitaran Block : 70.49%\n",
            "Out of School from Desuri Block : 66.4%\n",
            "Out of School from Rani Block : 76.61%\n"
          ]
        }
      ]
    },
    {
      "cell_type": "markdown",
      "source": [
        "**Observation**\n",
        "\n",
        "*   As we can see that from every Block almost 66-75% of the kids are out of School.\n",
        "\n",
        "*   Raipur, Sojat, Jaitaran, Desuri and Rani are Top 5 Blocks with Most Out of School.\n"
      ],
      "metadata": {
        "id": "7IZ-E4CbzAPr"
      }
    },
    {
      "cell_type": "markdown",
      "source": [
        "# **Top 5 Clusters with Most Out of School**"
      ],
      "metadata": {
        "id": "uPjvAansd-Zi"
      }
    },
    {
      "cell_type": "code",
      "source": [
        "#Top 5 Clusters with Most Out of School in Pali District\n",
        "pli_clusters = pali.loc[(pali['edu_status']==2) | (pali['edu_status']==3)]\n",
        "pli_freq_dict_cls = {}\n",
        "for cluster in pli_clusters['Cluster']:\n",
        "  if cluster in pli_freq_dict_cls:\n",
        "    pli_freq_dict_cls[cluster] = pli_freq_dict_cls[cluster]+1\n",
        "  else:\n",
        "    pli_freq_dict_cls[cluster] = 1\n",
        "sorted_pli_freq_dict_cls = sorted(pli_freq_dict_cls.items(),key=lambda x:x[1],reverse=True)\n",
        "Top_5_Pali_Cluster = pd.DataFrame(sorted_pli_freq_dict_cls,columns=['Cluster','Count'])\n",
        "Top_5_Pali_Cluster = Top_5_Pali_Cluster.head(5)\n",
        "pal=sns.cubehelix_palette(5)\n",
        "sns.barplot(data=Top_5_Pali_Cluster,x='Count',y='Cluster',palette=pal).set(title='Top 5 Clusters with Most Out of School')"
      ],
      "metadata": {
        "colab": {
          "base_uri": "https://localhost:8080/"
        },
        "id": "IUc30q-8zAsi",
        "outputId": "68378431-6a8c-4545-fe88-499ff1bbe59c"
      },
      "execution_count": null,
      "outputs": [
        {
          "output_type": "execute_result",
          "data": {
            "text/plain": [
              "[Text(0.5, 1.0, 'Top 5 Clusters with Most Out of School')]"
            ]
          },
          "metadata": {},
          "execution_count": 43
        },
        {
          "output_type": "display_data",
          "data": {
            "text/plain": [
              "<Figure size 432x288 with 1 Axes>"
            ],
            "image/png": "[encoded data removed]"
          },
          "metadata": {
            "needs_background": "light"
          }
        }
      ]
    },
    {
      "cell_type": "code",
      "source": [
        "bar = pali.loc[pali['Cluster']=='BAR']\n",
        "bar_out_of_school = bar.loc[(bar['edu_status']==2) | (bar['edu_status']==3)]\n",
        "print(f'Out of School from Bar Cluster : {round(len(bar_out_of_school)/len(bar)*100,2)}%')\n",
        "\n",
        "vara = pali.loc[pali['Cluster']=='VARA SOLANKIAN']\n",
        "vara_out_of_school = vara.loc[(vara['edu_status']==2) | (vara['edu_status']==3)]\n",
        "print(f'Out of School from Vara Solankian Cluster : {round(len(vara_out_of_school)/len(vara)*100,2)}%')\n",
        "\n",
        "aji = pali.loc[pali['Cluster']=='AJITPURA']\n",
        "aji_out_of_school = aji.loc[(aji['edu_status']==2) | (aji['edu_status']==3)]\n",
        "print(f'Out of School from Ajitpura Cluster : {round(len(aji_out_of_school)/len(aji)*100,2)}%')\n",
        "\n",
        "gud = pali.loc[pali['Cluster']=='GUDA RAMA JI']\n",
        "gud_out_of_school = gud.loc[(gud['edu_status']==2) | (gud['edu_status']==3)]\n",
        "print(f'Out of School from Guda Rama Ji Cluster : {round(len(gat_out_of_school)/len(gat)*100,2)}%')\n",
        "\n",
        "mag = pali.loc[pali['Cluster']=='MAGARTALAV']\n",
        "mag_out_of_school = mag.loc[(mag['edu_status']==2) | (mag['edu_status']==3)]\n",
        "print(f'Out of School from Magartalav Cluster : {round(len(mag_out_of_school)/len(mag)*100,2)}%')\n"
      ],
      "metadata": {
        "id": "8-T02TJ3TTR5",
        "colab": {
          "base_uri": "https://localhost:8080/"
        },
        "outputId": "59d3f1d8-dc96-4eee-eb83-9ce397a14f80"
      },
      "execution_count": null,
      "outputs": [
        {
          "output_type": "stream",
          "name": "stdout",
          "text": [
            "Out of School from Bar Cluster : 72.07%\n",
            "Out of School from Vara Solankian Cluster : 70.14%\n",
            "Out of School from Ajitpura Cluster : 73.02%\n",
            "Out of School from Guda Rama Ji Cluster : 66.36%\n",
            "Out of School from Magartalav Cluster : 64.36%\n"
          ]
        }
      ]
    },
    {
      "cell_type": "markdown",
      "source": [
        "**Observation**\n",
        "\n",
        "*   Almost 70% of the kids from each Cluster are not in school or receiving education.\n",
        "\n",
        "*   Bar, Var Solankian, Ajitpura, Guda Rama Ji and Magartalav are the Top 5 Clusters ith Most Out of School.\n"
      ],
      "metadata": {
        "id": "TqawqViE6lWq"
      }
    }
  ]
}